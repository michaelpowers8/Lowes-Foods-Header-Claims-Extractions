{
  "cells": [
    {
      "cell_type": "markdown",
      "metadata": {
        "id": "view-in-github",
        "colab_type": "text"
      },
      "source": [
        "<a href=\"https://colab.research.google.com/github/michaelpowers8/Lowes-Foods-Header-Claims-Extractions/blob/main/PDF_OCR_Extraction.ipynb\" target=\"_parent\"><img src=\"https://colab.research.google.com/assets/colab-badge.svg\" alt=\"Open In Colab\"/></a>"
      ]
    },
    {
      "cell_type": "markdown",
      "metadata": {
        "id": "igGXCzU8Z4lc"
      },
      "source": [
        "# Lowe's Foods Claim Header PDF Extraction"
      ]
    },
    {
      "cell_type": "markdown",
      "metadata": {
        "id": "Fnxy0Za5Z4le"
      },
      "source": [
        "## Importing Libraries"
      ]
    },
    {
      "cell_type": "code",
      "execution_count": null,
      "metadata": {
        "id": "KZtvbcAVZ4lf"
      },
      "outputs": [],
      "source": [
        "from numpy import ndarray,array\n",
        "from pytesseract import pytesseract\n",
        "from pytesseract import image_to_string\n",
        "from pdf2image import convert_from_path\n",
        "from PyPDF2 import PdfReader\n",
        "from warnings import filterwarnings\n",
        "from re import search\n",
        "from IPython.display import clear_output\n",
        "import pyautogui\n",
        "from time import sleep\n",
        "from pdfplumber import open as open_pdf\n",
        "from os import listdir\n",
        "filterwarnings('ignore')\n",
        "pytesseract.tesseract_cmd = \"C:/Users/mpowers/AppData/Local/Programs/Tesseract-OCR/tesseract.exe\""
      ]
    },
    {
      "cell_type": "code",
      "execution_count": null,
      "metadata": {
        "id": "X3Wgi-NcZ4lg",
        "outputId": "af558a60-a42f-4762-d5f5-e139e85e4949"
      },
      "outputs": [
        {
          "name": "stdout",
          "output_type": "stream",
          "text": [
            "Lowe's Food Stores, Inc.\n",
            "C1kim\n",
            "Date 11/04/21\n",
            "· -\n",
            "Deducti6n\n",
            "Date 01/03/22\n",
            "-\n",
            "Claim Number L43800\n",
            "-\n",
            "Manufacturer Number 43200\n",
            "-\n",
            "Manufacturer Utz Quality Foods\n",
            "-\n",
            ";j\n",
            "B. rok.er Tim Doran\n",
            "-\n",
            "E?planation\n",
            "ofClaim Lump SumBillback\n",
            "-\n",
            "Lowe's did not invoice the lump sum billback due forthe attached promotion.\n",
            "· s·.: ?;: :1 e·;I t· he,,.-,:-attaI ched. d- ocumr.enta.tion. for a breakdown ofthe invoice total.\n",
            ": !H ·, I ' I\n",
            "· 1!: · Invoice Total = $5,152.00\n",
            ".\n",
            "!j!\n",
            "! l 1·-?. 1 I · ,:ii l .i.\n",
            "'I:\n",
            ";:,\n",
            ":t '-,• D,,1 i:t re;,c..t a' nI' y it n•' quiriesI regarding this claim along with supporting documentation to:\n",
            "·,. 1·.._i The Maher'Group, Inc.\n",
            "Attn: Michael Maher\n",
            "425 East Bodley\n",
            "St. Louis, MO63122\n",
            "(0) 314-96679866\n",
            "(F) 314-966?98713\n",
            "lowesfoods@mahergroupinc.com\n",
            "(E-Mail)\n",
            "lfY.our research finds this claim to q?.valid this coversheet should be signed by an authorized party and faxed\n",
            "tothe above number indicating the method of payment. If payment is not received orthe cover sheet not\n",
            "returnedwithin.slxty (60) days, Lowe's Foods Stores, Inc. will have MDI, Inc. deductthe invoice total from the\n",
            "fV! l• .j /:'!f:n_t,J·;f\\'a,g,t.u.r1 ,?. r.l . ,· . ' t I ' ! ,.' '.,, , '\n",
            ".\n",
            "A?thorized Signature:_...;.._ Method of Payment: Deduction Check\n",
            "__ __\n",
            "· ·1!f··: .-. :; r ::·\n",
            "Thank you ln advance foryo.urcooperation and yourtimely resolution to this cl?im.\n",
            "Regards,\n",
            "Michael Maher\n",
            "The Maher Group, Inc.\n",
            "AnAlexLeeCompany\n",
            ",·1 •\n",
            "i'\n",
            ",;\n",
            ":.1\n",
            ". : I '·i' ··;\n"
          ]
        }
      ],
      "source": [
        "import pdfplumber\n",
        "\n",
        "with pdfplumber.open(\"C:/Code/Python/Lowes/Claims_PDFs/L43800.pdf\") as pdf:\n",
        "    print(pdf.pages[0].extract_text())"
      ]
    },
    {
      "cell_type": "markdown",
      "metadata": {
        "id": "TaVrSCi6Z4lh"
      },
      "source": [
        "## PDF Text Extraction"
      ]
    },
    {
      "cell_type": "code",
      "execution_count": null,
      "metadata": {
        "id": "j7YwUNY3Z4lh"
      },
      "outputs": [],
      "source": [
        "files:list[str] = listdir('//bart/MaherGroup_Claims')\n",
        "final_files:list[str] = []\n",
        "count:int = 0\n",
        "for file in files:\n",
        "    if(\n",
        "        (len(str(file).replace(' ',''))==len('L42800.pdf'))and\n",
        "        ('.pdf' in str(file))\n",
        "      ):\n",
        "        final_files.append(file)\n",
        "files = final_files.copy()"
      ]
    },
    {
      "cell_type": "code",
      "execution_count": null,
      "metadata": {
        "id": "5veopJnMZ4lh"
      },
      "outputs": [],
      "source": [
        "for file in files:\n",
        "    try:\n",
        "        with open(f\"C:/Code/Python/Lowes/Claims_Text_OCR_Originals/{file.replace('pdf','txt')}\",'w') as ocr:\n",
        "            ocr.write(open_pdf(f\"C:/Code/Python/Lowes/Claims_PDFs/{file}\").pages[0].extract_text())\n",
        "    except Exception as e:\n",
        "        print(f\"{file}: {str(e)}\")"
      ]
    },
    {
      "cell_type": "raw",
      "metadata": {
        "vscode": {
          "languageId": "raw"
        },
        "id": "wmbUdNUdZ4lh"
      },
      "source": [
        "count:int = 1758\n",
        "full_text:list = []\n",
        "final_text:str = \"\"\n",
        "for file in files[count:]:\n",
        "    file:str = f\"//bart/MaherGroup_Claims/{file}\"\n",
        "    clear_output(wait=False)\n",
        "    print(f\"Files Read: {count:,}\\nFiles Left: {len(files)-count:,}\\n{str(file).replace('//bart/MaherGroup_Claims/','').replace('.pdf','.txt').replace('.PDF','.txt')}\")\n",
        "    count += 1\n",
        "    pages = None\n",
        "    try:\n",
        "        pages = convert_from_path(file,dpi=400,poppler_path=\"C:/Users/mpowers/Downloads/Release-24.02.0-0/poppler-24.02.0/Library/bin\")\n",
        "        print(\"YAY\")\n",
        "    except:\n",
        "        try:\n",
        "            print(\"FAIL 1\")\n",
        "            pages = convert_from_path(file,375,poppler_path=\"C:/Users/mpowers/Downloads/Release-24.02.0-0/poppler-24.02.0/Library/bin\")\n",
        "        except:\n",
        "            try:\n",
        "                print(\"FAIL 2\")\n",
        "                pages = convert_from_path(file,350,poppler_path=\"C:/Users/mpowers/Downloads/Release-24.02.0-0/poppler-24.02.0/Library/bin\")\n",
        "            except:\n",
        "                try:\n",
        "                    print(\"FAIL 3\")\n",
        "                    pages = convert_from_path(file,325,poppler_path=\"C:/Users/mpowers/Downloads/Release-24.02.0-0/poppler-24.02.0/Library/bin\")\n",
        "                except:\n",
        "                    try:\n",
        "                        pages = convert_from_path(file,300,poppler_path=\"C:/Users/mpowers/Downloads/Release-24.02.0-0/poppler-24.02.0/Library/bin\")\n",
        "                    except:\n",
        "                        try:\n",
        "                            print(\"FAIL 4\")\n",
        "                            pages = convert_from_path(file,275,poppler_path=\"C:/Users/mpowers/Downloads/Release-24.02.0-0/poppler-24.02.0/Library/bin\")\n",
        "                        except:\n",
        "                            try:\n",
        "                                print(\"FAIL 5\")\n",
        "                                pages = convert_from_path(file,250,poppler_path=\"C:/Users/mpowers/Downloads/Release-24.02.0-0/poppler-24.02.0/Library/bin\")\n",
        "                            except:pass\n",
        "\n",
        "    if(pages is None):\n",
        "        try:\n",
        "            print(\"FAIL 6\")\n",
        "            pages = convert_from_path(file,225,poppler_path=\"C:/Users/mpowers/Downloads/Release-24.02.0-0/poppler-24.02.0/Library/bin\")\n",
        "        except:\n",
        "            try:\n",
        "                print(\"FAIL 7\")\n",
        "                pages = convert_from_path(file,200,poppler_path=\"C:/Users/mpowers/Downloads/Release-24.02.0-0/poppler-24.02.0/Library/bin\")\n",
        "            except:\n",
        "                try:\n",
        "                    print(\"FAIL 8\")\n",
        "                    pages = convert_from_path(file,175,poppler_path=\"C:/Users/mpowers/Downloads/Release-24.02.0-0/poppler-24.02.0/Library/bin\")\n",
        "                except:\n",
        "                    try:\n",
        "                        print(\"FAIL 9\")\n",
        "                        pages = convert_from_path(file,150,poppler_path=\"C:/Users/mpowers/Downloads/Release-24.02.0-0/poppler-24.02.0/Library/bin\")\n",
        "                    except:\n",
        "                        try:\n",
        "                            print(\"FAIL 10\")\n",
        "                            pages = convert_from_path(file,125,poppler_path=\"C:/Users/mpowers/Downloads/Release-24.02.0-0/poppler-24.02.0/Library/bin\")\n",
        "                        except:\n",
        "                            try:\n",
        "                                print(\"FAIL 11\")\n",
        "                                pages = convert_from_path(file,100,poppler_path=\"C:/Users/mpowers/Downloads/Release-24.02.0-0/poppler-24.02.0/Library/bin\")\n",
        "                            except:\n",
        "                                try:\n",
        "                                    print(\"FAIL 12\")\n",
        "                                    pages = convert_from_path(file,50,poppler_path=\"C:/Users/mpowers/Downloads/Release-24.02.0-0/poppler-24.02.0/Library/bin\")\n",
        "                                except:\n",
        "                                    try:\n",
        "                                        print(\"FAIL 13\")\n",
        "                                        pages = convert_from_path(file,40,poppler_path=\"C:/Users/mpowers/Downloads/Release-24.02.0-0/poppler-24.02.0/Library/bin\")\n",
        "                                    except:\n",
        "                                        try:\n",
        "                                            print(\"FAIL 14\")\n",
        "                                            pages = convert_from_path(file,30,poppler_path=\"C:/Users/mpowers/Downloads/Release-24.02.0-0/poppler-24.02.0/Library/bin\")\n",
        "                                        except:\n",
        "                                            print(\"FAIL 15\")\n",
        "                                            pages = convert_from_path(file,20,poppler_path=\"C:/Users/mpowers/Downloads/Release-24.02.0-0/poppler-24.02.0/Library/bin\")\n",
        "    print(len(pages))\n",
        "    extracted_text:str = \"\"\n",
        "    for page in range(1):\n",
        "        img_array:ndarray = array(pages[page])\n",
        "        text:str = str(image_to_string(img_array))\n",
        "        extracted_text:str = extracted_text+'\\n'+text\n",
        "    text_file = open(f\"C:/Code/Python/Lowes/Claims_Text_OCRs/{str(file).replace('//bart/MaherGroup_Claims/','').replace('.pdf','.txt').replace('.PDF','.txt')}\",\"w\")\n",
        "    text_file.write(extracted_text)\n",
        "    text_file.close()\n",
        "    extracted_text:str = \"\""
      ]
    }
  ],
  "metadata": {
    "kernelspec": {
      "display_name": "Python 3",
      "language": "python",
      "name": "python3"
    },
    "language_info": {
      "codemirror_mode": {
        "name": "ipython",
        "version": 3
      },
      "file_extension": ".py",
      "mimetype": "text/x-python",
      "name": "python",
      "nbconvert_exporter": "python",
      "pygments_lexer": "ipython3",
      "version": "3.10.10"
    },
    "colab": {
      "provenance": [],
      "include_colab_link": true
    }
  },
  "nbformat": 4,
  "nbformat_minor": 0
}